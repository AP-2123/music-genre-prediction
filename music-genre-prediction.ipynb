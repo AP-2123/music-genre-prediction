{
 "cells": [
  {
   "cell_type": "markdown",
   "id": "6e24f4a0",
   "metadata": {},
   "source": [
    "## Problem Statement\n",
    "\n",
    "### Imagine you have a dataset where you need to predict the Genres of Music using an Unsupervised algorithm and you need to find the accuracy of the model, built-in docker, and use some library to display that in frontend"
   ]
  },
  {
   "cell_type": "code",
   "execution_count": 41,
   "id": "ec644f48",
   "metadata": {},
   "outputs": [],
   "source": [
    "#import neccesory library\n",
    "import pandas as pd\n",
    "import numpy as np \n",
    "import matplotlib.pyplot as plt\n",
    "import seaborn as sns\n",
    "from sklearn.cluster import KMeans\n",
    "from sklearn.preprocessing import StandardScaler\n",
    "from sklearn.metrics import silhouette_score\n",
    "from sklearn import metrics\n",
    "from sklearn.metrics import confusion_matrix,classification_report\n",
    "import warnings\n",
    "warnings.filterwarnings(\"ignore\")\n",
    "%matplotlib inline"
   ]
  },
  {
   "cell_type": "code",
   "execution_count": 5,
   "id": "d8a378c8",
   "metadata": {},
   "outputs": [],
   "source": [
    "#import dataset\n",
    "df = pd.read_csv('../dataset/data_music.csv')"
   ]
  },
  {
   "cell_type": "code",
   "execution_count": 6,
   "id": "3b75518f",
   "metadata": {},
   "outputs": [
    {
     "data": {
      "text/html": [
       "<div>\n",
       "<style scoped>\n",
       "    .dataframe tbody tr th:only-of-type {\n",
       "        vertical-align: middle;\n",
       "    }\n",
       "\n",
       "    .dataframe tbody tr th {\n",
       "        vertical-align: top;\n",
       "    }\n",
       "\n",
       "    .dataframe thead th {\n",
       "        text-align: right;\n",
       "    }\n",
       "</style>\n",
       "<table border=\"1\" class=\"dataframe\">\n",
       "  <thead>\n",
       "    <tr style=\"text-align: right;\">\n",
       "      <th></th>\n",
       "      <th>filename</th>\n",
       "      <th>tempo</th>\n",
       "      <th>beats</th>\n",
       "      <th>chroma_stft</th>\n",
       "      <th>rmse</th>\n",
       "      <th>spectral_centroid</th>\n",
       "      <th>spectral_bandwidth</th>\n",
       "      <th>rolloff</th>\n",
       "      <th>zero_crossing_rate</th>\n",
       "      <th>mfcc1</th>\n",
       "      <th>...</th>\n",
       "      <th>mfcc12</th>\n",
       "      <th>mfcc13</th>\n",
       "      <th>mfcc14</th>\n",
       "      <th>mfcc15</th>\n",
       "      <th>mfcc16</th>\n",
       "      <th>mfcc17</th>\n",
       "      <th>mfcc18</th>\n",
       "      <th>mfcc19</th>\n",
       "      <th>mfcc20</th>\n",
       "      <th>label</th>\n",
       "    </tr>\n",
       "  </thead>\n",
       "  <tbody>\n",
       "    <tr>\n",
       "      <th>0</th>\n",
       "      <td>blues.00081.au</td>\n",
       "      <td>103.359375</td>\n",
       "      <td>50</td>\n",
       "      <td>0.380260</td>\n",
       "      <td>0.248262</td>\n",
       "      <td>2116.942959</td>\n",
       "      <td>1956.611056</td>\n",
       "      <td>4196.107960</td>\n",
       "      <td>0.127272</td>\n",
       "      <td>-26.929785</td>\n",
       "      <td>...</td>\n",
       "      <td>14.336612</td>\n",
       "      <td>-13.821769</td>\n",
       "      <td>7.562789</td>\n",
       "      <td>-6.181372</td>\n",
       "      <td>0.330165</td>\n",
       "      <td>-6.829571</td>\n",
       "      <td>0.965922</td>\n",
       "      <td>-7.570825</td>\n",
       "      <td>2.918987</td>\n",
       "      <td>blues</td>\n",
       "    </tr>\n",
       "    <tr>\n",
       "      <th>1</th>\n",
       "      <td>blues.00022.au</td>\n",
       "      <td>95.703125</td>\n",
       "      <td>44</td>\n",
       "      <td>0.306451</td>\n",
       "      <td>0.113475</td>\n",
       "      <td>1156.070496</td>\n",
       "      <td>1497.668176</td>\n",
       "      <td>2170.053545</td>\n",
       "      <td>0.058613</td>\n",
       "      <td>-233.860772</td>\n",
       "      <td>...</td>\n",
       "      <td>-2.250578</td>\n",
       "      <td>3.959198</td>\n",
       "      <td>5.322555</td>\n",
       "      <td>0.812028</td>\n",
       "      <td>-1.107202</td>\n",
       "      <td>-4.556555</td>\n",
       "      <td>-2.436490</td>\n",
       "      <td>3.316913</td>\n",
       "      <td>-0.608485</td>\n",
       "      <td>blues</td>\n",
       "    </tr>\n",
       "    <tr>\n",
       "      <th>2</th>\n",
       "      <td>blues.00031.au</td>\n",
       "      <td>151.999081</td>\n",
       "      <td>75</td>\n",
       "      <td>0.253487</td>\n",
       "      <td>0.151571</td>\n",
       "      <td>1331.073970</td>\n",
       "      <td>1973.643437</td>\n",
       "      <td>2900.174130</td>\n",
       "      <td>0.042967</td>\n",
       "      <td>-221.802549</td>\n",
       "      <td>...</td>\n",
       "      <td>-13.037723</td>\n",
       "      <td>-12.652228</td>\n",
       "      <td>-1.821905</td>\n",
       "      <td>-7.260097</td>\n",
       "      <td>-6.660252</td>\n",
       "      <td>-14.682694</td>\n",
       "      <td>-11.719264</td>\n",
       "      <td>-11.025216</td>\n",
       "      <td>-13.387260</td>\n",
       "      <td>blues</td>\n",
       "    </tr>\n",
       "    <tr>\n",
       "      <th>3</th>\n",
       "      <td>blues.00012.au</td>\n",
       "      <td>184.570312</td>\n",
       "      <td>91</td>\n",
       "      <td>0.269320</td>\n",
       "      <td>0.119072</td>\n",
       "      <td>1361.045467</td>\n",
       "      <td>1567.804596</td>\n",
       "      <td>2739.625101</td>\n",
       "      <td>0.069124</td>\n",
       "      <td>-207.208080</td>\n",
       "      <td>...</td>\n",
       "      <td>-0.613248</td>\n",
       "      <td>0.384877</td>\n",
       "      <td>2.605128</td>\n",
       "      <td>-5.188924</td>\n",
       "      <td>-9.527455</td>\n",
       "      <td>-9.244394</td>\n",
       "      <td>-2.848274</td>\n",
       "      <td>-1.418707</td>\n",
       "      <td>-5.932607</td>\n",
       "      <td>blues</td>\n",
       "    </tr>\n",
       "    <tr>\n",
       "      <th>4</th>\n",
       "      <td>blues.00056.au</td>\n",
       "      <td>161.499023</td>\n",
       "      <td>74</td>\n",
       "      <td>0.391059</td>\n",
       "      <td>0.137728</td>\n",
       "      <td>1811.076084</td>\n",
       "      <td>2052.332563</td>\n",
       "      <td>3927.809582</td>\n",
       "      <td>0.075480</td>\n",
       "      <td>-145.434568</td>\n",
       "      <td>...</td>\n",
       "      <td>7.457218</td>\n",
       "      <td>-10.470444</td>\n",
       "      <td>-2.360483</td>\n",
       "      <td>-6.783623</td>\n",
       "      <td>2.671134</td>\n",
       "      <td>-4.760879</td>\n",
       "      <td>-0.949005</td>\n",
       "      <td>0.024832</td>\n",
       "      <td>-2.005315</td>\n",
       "      <td>blues</td>\n",
       "    </tr>\n",
       "  </tbody>\n",
       "</table>\n",
       "<p>5 rows × 30 columns</p>\n",
       "</div>"
      ],
      "text/plain": [
       "         filename       tempo  beats  chroma_stft      rmse  \\\n",
       "0  blues.00081.au  103.359375     50     0.380260  0.248262   \n",
       "1  blues.00022.au   95.703125     44     0.306451  0.113475   \n",
       "2  blues.00031.au  151.999081     75     0.253487  0.151571   \n",
       "3  blues.00012.au  184.570312     91     0.269320  0.119072   \n",
       "4  blues.00056.au  161.499023     74     0.391059  0.137728   \n",
       "\n",
       "   spectral_centroid  spectral_bandwidth      rolloff  zero_crossing_rate  \\\n",
       "0        2116.942959         1956.611056  4196.107960            0.127272   \n",
       "1        1156.070496         1497.668176  2170.053545            0.058613   \n",
       "2        1331.073970         1973.643437  2900.174130            0.042967   \n",
       "3        1361.045467         1567.804596  2739.625101            0.069124   \n",
       "4        1811.076084         2052.332563  3927.809582            0.075480   \n",
       "\n",
       "        mfcc1  ...     mfcc12     mfcc13    mfcc14    mfcc15    mfcc16  \\\n",
       "0  -26.929785  ...  14.336612 -13.821769  7.562789 -6.181372  0.330165   \n",
       "1 -233.860772  ...  -2.250578   3.959198  5.322555  0.812028 -1.107202   \n",
       "2 -221.802549  ... -13.037723 -12.652228 -1.821905 -7.260097 -6.660252   \n",
       "3 -207.208080  ...  -0.613248   0.384877  2.605128 -5.188924 -9.527455   \n",
       "4 -145.434568  ...   7.457218 -10.470444 -2.360483 -6.783623  2.671134   \n",
       "\n",
       "      mfcc17     mfcc18     mfcc19     mfcc20  label  \n",
       "0  -6.829571   0.965922  -7.570825   2.918987  blues  \n",
       "1  -4.556555  -2.436490   3.316913  -0.608485  blues  \n",
       "2 -14.682694 -11.719264 -11.025216 -13.387260  blues  \n",
       "3  -9.244394  -2.848274  -1.418707  -5.932607  blues  \n",
       "4  -4.760879  -0.949005   0.024832  -2.005315  blues  \n",
       "\n",
       "[5 rows x 30 columns]"
      ]
     },
     "execution_count": 6,
     "metadata": {},
     "output_type": "execute_result"
    }
   ],
   "source": [
    "df.head()"
   ]
  },
  {
   "cell_type": "code",
   "execution_count": 8,
   "id": "4f3d57e9",
   "metadata": {},
   "outputs": [
    {
     "data": {
      "text/plain": [
       "(1000, 30)"
      ]
     },
     "execution_count": 8,
     "metadata": {},
     "output_type": "execute_result"
    }
   ],
   "source": [
    "df.shape"
   ]
  },
  {
   "cell_type": "markdown",
   "id": "70e9ff91",
   "metadata": {},
   "source": [
    "- Dataset have 1000 rows and 30 columns"
   ]
  },
  {
   "cell_type": "code",
   "execution_count": 7,
   "id": "8644cb05",
   "metadata": {},
   "outputs": [
    {
     "name": "stdout",
     "output_type": "stream",
     "text": [
      "<class 'pandas.core.frame.DataFrame'>\n",
      "RangeIndex: 1000 entries, 0 to 999\n",
      "Data columns (total 30 columns):\n",
      " #   Column              Non-Null Count  Dtype  \n",
      "---  ------              --------------  -----  \n",
      " 0   filename            1000 non-null   object \n",
      " 1   tempo               1000 non-null   float64\n",
      " 2   beats               1000 non-null   int64  \n",
      " 3   chroma_stft         1000 non-null   float64\n",
      " 4   rmse                1000 non-null   float64\n",
      " 5   spectral_centroid   1000 non-null   float64\n",
      " 6   spectral_bandwidth  1000 non-null   float64\n",
      " 7   rolloff             1000 non-null   float64\n",
      " 8   zero_crossing_rate  1000 non-null   float64\n",
      " 9   mfcc1               1000 non-null   float64\n",
      " 10  mfcc2               1000 non-null   float64\n",
      " 11  mfcc3               1000 non-null   float64\n",
      " 12  mfcc4               1000 non-null   float64\n",
      " 13  mfcc5               1000 non-null   float64\n",
      " 14  mfcc6               1000 non-null   float64\n",
      " 15  mfcc7               1000 non-null   float64\n",
      " 16  mfcc8               1000 non-null   float64\n",
      " 17  mfcc9               1000 non-null   float64\n",
      " 18  mfcc10              1000 non-null   float64\n",
      " 19  mfcc11              1000 non-null   float64\n",
      " 20  mfcc12              1000 non-null   float64\n",
      " 21  mfcc13              1000 non-null   float64\n",
      " 22  mfcc14              1000 non-null   float64\n",
      " 23  mfcc15              1000 non-null   float64\n",
      " 24  mfcc16              1000 non-null   float64\n",
      " 25  mfcc17              1000 non-null   float64\n",
      " 26  mfcc18              1000 non-null   float64\n",
      " 27  mfcc19              1000 non-null   float64\n",
      " 28  mfcc20              1000 non-null   float64\n",
      " 29  label               1000 non-null   object \n",
      "dtypes: float64(27), int64(1), object(2)\n",
      "memory usage: 234.5+ KB\n"
     ]
    }
   ],
   "source": [
    "#checking datatypes\n",
    "df.info()"
   ]
  },
  {
   "cell_type": "markdown",
   "id": "6d3e74ff",
   "metadata": {},
   "source": [
    "- Datatypes are correct"
   ]
  },
  {
   "cell_type": "code",
   "execution_count": 10,
   "id": "452bbab3",
   "metadata": {},
   "outputs": [
    {
     "data": {
      "text/plain": [
       "0"
      ]
     },
     "execution_count": 10,
     "metadata": {},
     "output_type": "execute_result"
    }
   ],
   "source": [
    "#checking duplicate rows\n",
    "df.duplicated().sum()"
   ]
  },
  {
   "cell_type": "markdown",
   "id": "fc38c4eb",
   "metadata": {},
   "source": [
    "- No duplicate values in data"
   ]
  },
  {
   "cell_type": "code",
   "execution_count": 12,
   "id": "973df095",
   "metadata": {},
   "outputs": [
    {
     "data": {
      "text/plain": [
       "filename              0\n",
       "tempo                 0\n",
       "beats                 0\n",
       "chroma_stft           0\n",
       "rmse                  0\n",
       "spectral_centroid     0\n",
       "spectral_bandwidth    0\n",
       "rolloff               0\n",
       "zero_crossing_rate    0\n",
       "mfcc1                 0\n",
       "mfcc2                 0\n",
       "mfcc3                 0\n",
       "mfcc4                 0\n",
       "mfcc5                 0\n",
       "mfcc6                 0\n",
       "mfcc7                 0\n",
       "mfcc8                 0\n",
       "mfcc9                 0\n",
       "mfcc10                0\n",
       "mfcc11                0\n",
       "mfcc12                0\n",
       "mfcc13                0\n",
       "mfcc14                0\n",
       "mfcc15                0\n",
       "mfcc16                0\n",
       "mfcc17                0\n",
       "mfcc18                0\n",
       "mfcc19                0\n",
       "mfcc20                0\n",
       "label                 0\n",
       "dtype: int64"
      ]
     },
     "execution_count": 12,
     "metadata": {},
     "output_type": "execute_result"
    }
   ],
   "source": [
    "#checking missing values\n",
    "df.isna().sum()"
   ]
  },
  {
   "cell_type": "markdown",
   "id": "bcaa54ea",
   "metadata": {},
   "source": [
    "- No missing values in data"
   ]
  },
  {
   "cell_type": "code",
   "execution_count": 19,
   "id": "70c32732",
   "metadata": {},
   "outputs": [
    {
     "data": {
      "text/plain": [
       "blues        100\n",
       "classical    100\n",
       "country      100\n",
       "disco        100\n",
       "hiphop       100\n",
       "jazz         100\n",
       "metal        100\n",
       "pop          100\n",
       "reggae       100\n",
       "rock         100\n",
       "Name: label, dtype: int64"
      ]
     },
     "execution_count": 19,
     "metadata": {},
     "output_type": "execute_result"
    }
   ],
   "source": [
    "#checking target class data \n",
    "df['label'].value_counts()"
   ]
  },
  {
   "cell_type": "markdown",
   "id": "aed88c3f",
   "metadata": {},
   "source": [
    "- label class is balanced"
   ]
  },
  {
   "cell_type": "code",
   "execution_count": 18,
   "id": "8ef86cbd",
   "metadata": {},
   "outputs": [
    {
     "data": {
      "text/plain": [
       "<AxesSubplot:>"
      ]
     },
     "execution_count": 18,
     "metadata": {},
     "output_type": "execute_result"
    },
    {
     "data": {
      "image/png": "[encoded data removed]",
      "text/plain": [
       "<Figure size 1080x720 with 2 Axes>"
      ]
     },
     "metadata": {
      "needs_background": "light"
     },
     "output_type": "display_data"
    }
   ],
   "source": [
    "#checking correlation.\n",
    "plt.figure(figsize=(15,10))\n",
    "sns.heatmap(df.corr())"
   ]
  },
  {
   "cell_type": "code",
   "execution_count": 21,
   "id": "8672c3af",
   "metadata": {},
   "outputs": [],
   "source": [
    "#Since we are using unsupervised algorithm,target column is not required"
   ]
  },
  {
   "cell_type": "code",
   "execution_count": 22,
   "id": "88378403",
   "metadata": {},
   "outputs": [],
   "source": [
    "# Prepare the data\n",
    "X = df.drop('label', axis=1)"
   ]
  },
  {
   "cell_type": "code",
   "execution_count": 23,
   "id": "17ced077",
   "metadata": {},
   "outputs": [],
   "source": [
    "# Feature scaling\n",
    "numeric_cols = X.select_dtypes(include=['float', 'int']).columns\n",
    "X_scaled = StandardScaler().fit_transform(X[numeric_cols])"
   ]
  },
  {
   "cell_type": "code",
   "execution_count": 26,
   "id": "ac9675f4",
   "metadata": {},
   "outputs": [
    {
     "data": {
      "image/png": "[encoded data removed]",
      "text/plain": [
       "<Figure size 432x288 with 1 Axes>"
      ]
     },
     "metadata": {
      "needs_background": "light"
     },
     "output_type": "display_data"
    }
   ],
   "source": [
    "#Finding the optimal number of clusters using the elbow method.\n",
    "\n",
    "#Initializing the list for the values of WCSS \n",
    "wcss_list= []   \n",
    "  \n",
    "#Using for loop for iterations from 1 to 10.  \n",
    "for i in range(1, 10):  \n",
    "    kmeans = KMeans(n_clusters=i, init='k-means++', random_state= 40)  \n",
    "    kmeans.fit(X_scaled)  \n",
    "    wcss_list.append(kmeans.inertia_)  \n",
    "plt.plot(range(1, 10), wcss_list)  \n",
    "plt.title('The Elobw Method Graph')  \n",
    "plt.xlabel('Number of clusters(k)')  \n",
    "plt.ylabel('wcss_list')  \n",
    "plt.show()"
   ]
  },
  {
   "cell_type": "code",
   "execution_count": 27,
   "id": "3d7f0785",
   "metadata": {},
   "outputs": [
    {
     "data": {
      "text/plain": [
       "12587.706008937306"
      ]
     },
     "execution_count": 27,
     "metadata": {},
     "output_type": "execute_result"
    }
   ],
   "source": [
    "kmeans.inertia_"
   ]
  },
  {
   "cell_type": "code",
   "execution_count": 29,
   "id": "7db862ae",
   "metadata": {},
   "outputs": [
    {
     "data": {
      "text/plain": [
       "KMeans(n_clusters=3, random_state=10)"
      ]
     },
     "execution_count": 29,
     "metadata": {},
     "output_type": "execute_result"
    }
   ],
   "source": [
    "# Perform K-means clustering\n",
    "kmeans = KMeans(n_clusters=3, random_state=10)\n",
    "kmeans.fit(X_scaled)"
   ]
  },
  {
   "cell_type": "code",
   "execution_count": 30,
   "id": "57a460a5",
   "metadata": {},
   "outputs": [],
   "source": [
    "clusters = kmeans.fit_predict(X_scaled)"
   ]
  },
  {
   "cell_type": "code",
   "execution_count": 31,
   "id": "23132da1",
   "metadata": {},
   "outputs": [
    {
     "data": {
      "text/plain": [
       "array([0, 1, 1, 1, 0])"
      ]
     },
     "execution_count": 31,
     "metadata": {},
     "output_type": "execute_result"
    }
   ],
   "source": [
    "clusters[0:5]"
   ]
  },
  {
   "cell_type": "code",
   "execution_count": 33,
   "id": "32ab2961",
   "metadata": {},
   "outputs": [],
   "source": [
    "# Evaluate the clustering\n",
    "silhouette_avg = silhouette_score(X_scaled, clusters)"
   ]
  },
  {
   "cell_type": "code",
   "execution_count": 34,
   "id": "40e2a747",
   "metadata": {},
   "outputs": [
    {
     "data": {
      "text/plain": [
       "0.2722168626705329"
      ]
     },
     "execution_count": 34,
     "metadata": {},
     "output_type": "execute_result"
    }
   ],
   "source": [
    "silhouette_avg "
   ]
  },
  {
   "cell_type": "markdown",
   "id": "4f989c95",
   "metadata": {},
   "source": [
    "- Generally, a silhouette score ranges from -1 to 1, where higher values indicate better-defined clusters and better separation between clusters.\n",
    "\n",
    "- A silhouette score of 0.272 is considered to be fair to moderate"
   ]
  },
  {
   "cell_type": "code",
   "execution_count": 36,
   "id": "b3a5a3df",
   "metadata": {},
   "outputs": [],
   "source": [
    "# Get the cluster labels\n",
    "cluster_labels = kmeans.labels_"
   ]
  },
  {
   "cell_type": "code",
   "execution_count": 37,
   "id": "5a5b1ce9",
   "metadata": {},
   "outputs": [],
   "source": [
    "# Add cluster labels to the DataFrame\n",
    "df['cluster'] = cluster_labels"
   ]
  },
  {
   "cell_type": "code",
   "execution_count": 38,
   "id": "739d501a",
   "metadata": {},
   "outputs": [
    {
     "data": {
      "text/html": [
       "<div>\n",
       "<style scoped>\n",
       "    .dataframe tbody tr th:only-of-type {\n",
       "        vertical-align: middle;\n",
       "    }\n",
       "\n",
       "    .dataframe tbody tr th {\n",
       "        vertical-align: top;\n",
       "    }\n",
       "\n",
       "    .dataframe thead th {\n",
       "        text-align: right;\n",
       "    }\n",
       "</style>\n",
       "<table border=\"1\" class=\"dataframe\">\n",
       "  <thead>\n",
       "    <tr style=\"text-align: right;\">\n",
       "      <th></th>\n",
       "      <th>filename</th>\n",
       "      <th>tempo</th>\n",
       "      <th>beats</th>\n",
       "      <th>chroma_stft</th>\n",
       "      <th>rmse</th>\n",
       "      <th>spectral_centroid</th>\n",
       "      <th>spectral_bandwidth</th>\n",
       "      <th>rolloff</th>\n",
       "      <th>zero_crossing_rate</th>\n",
       "      <th>mfcc1</th>\n",
       "      <th>...</th>\n",
       "      <th>mfcc13</th>\n",
       "      <th>mfcc14</th>\n",
       "      <th>mfcc15</th>\n",
       "      <th>mfcc16</th>\n",
       "      <th>mfcc17</th>\n",
       "      <th>mfcc18</th>\n",
       "      <th>mfcc19</th>\n",
       "      <th>mfcc20</th>\n",
       "      <th>label</th>\n",
       "      <th>cluster</th>\n",
       "    </tr>\n",
       "  </thead>\n",
       "  <tbody>\n",
       "    <tr>\n",
       "      <th>0</th>\n",
       "      <td>blues.00081.au</td>\n",
       "      <td>103.359375</td>\n",
       "      <td>50</td>\n",
       "      <td>0.38026</td>\n",
       "      <td>0.248262</td>\n",
       "      <td>2116.942959</td>\n",
       "      <td>1956.611056</td>\n",
       "      <td>4196.10796</td>\n",
       "      <td>0.127272</td>\n",
       "      <td>-26.929785</td>\n",
       "      <td>...</td>\n",
       "      <td>-13.821769</td>\n",
       "      <td>7.562789</td>\n",
       "      <td>-6.181372</td>\n",
       "      <td>0.330165</td>\n",
       "      <td>-6.829571</td>\n",
       "      <td>0.965922</td>\n",
       "      <td>-7.570825</td>\n",
       "      <td>2.918987</td>\n",
       "      <td>blues</td>\n",
       "      <td>0</td>\n",
       "    </tr>\n",
       "  </tbody>\n",
       "</table>\n",
       "<p>1 rows × 31 columns</p>\n",
       "</div>"
      ],
      "text/plain": [
       "         filename       tempo  beats  chroma_stft      rmse  \\\n",
       "0  blues.00081.au  103.359375     50      0.38026  0.248262   \n",
       "\n",
       "   spectral_centroid  spectral_bandwidth     rolloff  zero_crossing_rate  \\\n",
       "0        2116.942959         1956.611056  4196.10796            0.127272   \n",
       "\n",
       "       mfcc1  ...     mfcc13    mfcc14    mfcc15    mfcc16    mfcc17  \\\n",
       "0 -26.929785  ... -13.821769  7.562789 -6.181372  0.330165 -6.829571   \n",
       "\n",
       "     mfcc18    mfcc19    mfcc20  label  cluster  \n",
       "0  0.965922 -7.570825  2.918987  blues        0  \n",
       "\n",
       "[1 rows x 31 columns]"
      ]
     },
     "execution_count": 38,
     "metadata": {},
     "output_type": "execute_result"
    }
   ],
   "source": [
    "df.head(1)"
   ]
  },
  {
   "cell_type": "code",
   "execution_count": 39,
   "id": "f8e4cc2f",
   "metadata": {},
   "outputs": [
    {
     "data": {
      "text/plain": [
       "0    373\n",
       "2    318\n",
       "1    309\n",
       "Name: cluster, dtype: int64"
      ]
     },
     "execution_count": 39,
     "metadata": {},
     "output_type": "execute_result"
    }
   ],
   "source": [
    "df['cluster'].value_counts()"
   ]
  },
  {
   "cell_type": "code",
   "execution_count": 42,
   "id": "cb09921d",
   "metadata": {},
   "outputs": [
    {
     "name": "stdout",
     "output_type": "stream",
     "text": [
      "[[373   0   0]\n",
      " [  0 309   0]\n",
      " [  0   0 318]]\n"
     ]
    }
   ],
   "source": [
    "print(confusion_matrix(df['cluster'],kmeans.labels_))"
   ]
  },
  {
   "cell_type": "code",
   "execution_count": 43,
   "id": "02625593",
   "metadata": {},
   "outputs": [
    {
     "name": "stdout",
     "output_type": "stream",
     "text": [
      "              precision    recall  f1-score   support\n",
      "\n",
      "           0       1.00      1.00      1.00       373\n",
      "           1       1.00      1.00      1.00       309\n",
      "           2       1.00      1.00      1.00       318\n",
      "\n",
      "    accuracy                           1.00      1000\n",
      "   macro avg       1.00      1.00      1.00      1000\n",
      "weighted avg       1.00      1.00      1.00      1000\n",
      "\n"
     ]
    }
   ],
   "source": [
    "print(classification_report(df['cluster'],kmeans.labels_))"
   ]
  },
  {
   "cell_type": "code",
   "execution_count": null,
   "id": "28a096ea",
   "metadata": {},
   "outputs": [],
   "source": []
  },
  {
   "cell_type": "code",
   "execution_count": null,
   "id": "70361b64",
   "metadata": {},
   "outputs": [],
   "source": []
  },
  {
   "cell_type": "code",
   "execution_count": null,
   "id": "d6cbd169",
   "metadata": {},
   "outputs": [],
   "source": [
    "# Create Flask app\n",
    "app = Flask(__name__)\n",
    "\n",
    "# Define API endpoint for predictions\n",
    "@app.route('/predict', methods=['POST'])\n",
    "def predict():\n",
    "    data = request.json  # Get the data from the request\n",
    "    # Perform necessary preprocessing on data, if required\n",
    "    \n",
    "    # Scale the data\n",
    "    data_scaled = StandardScaler().fit_transform(data[numeric_cols])\n",
    "    \n",
    "    # Predict clusters for the data\n",
    "    predicted_clusters = kmeans.predict(data_scaled)\n",
    "    \n",
    "    # Prepare the response\n",
    "    response = {'predicted_clusters': predicted_clusters.tolist()}\n",
    "    return jsonify(response)\n",
    "\n",
    "# Define API endpoint for accuracy\n",
    "@app.route('/accuracy', methods=['GET'])\n",
    "def accuracy():\n",
    "    response = {'silhouette_avg': silhouette_avg}\n",
    "    return jsonify(response)\n",
    "\n",
    "if __name__ == '__main__':\n",
    "    # Run the Flask app\n",
    "    app.run(debug=True)\n",
    "\n"
   ]
  }
 ],
 "metadata": {
  "kernelspec": {
   "display_name": "Python 3 (ipykernel)",
   "language": "python",
   "name": "python3"
  },
  "language_info": {
   "codemirror_mode": {
    "name": "ipython",
    "version": 3
   },
   "file_extension": ".py",
   "mimetype": "text/x-python",
   "name": "python",
   "nbconvert_exporter": "python",
   "pygments_lexer": "ipython3",
   "version": "3.9.12"
  }
 },
 "nbformat": 4,
 "nbformat_minor": 5
}
